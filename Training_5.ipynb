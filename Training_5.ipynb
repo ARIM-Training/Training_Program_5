{
 "cells": [
  {
   "cell_type": "markdown",
   "id": "be7b3d7b",
   "metadata": {
    "id": "be7b3d7b"
   },
   "source": [
    "# # データ構造化ハンズオン演習　5\n",
    "## NMR編 \n",
    "\n",
    "\n",
    "\n",
    "**対応機種** ：　 JEOL ECA-600  \n",
    "**rawデータ**：　.jdx (テキスト形式)  \n",
    "**スクリプトの内容**：  \n",
    "JEOL製NMRのデータについて，jdx形式（テキスト）を起点として，一次元NMRのデータ構造化およびスペクトル図を出力します．\n"
   ]
  },
  {
   "cell_type": "markdown",
   "id": "4b4600b6",
   "metadata": {
    "id": "4b4600b6"
   },
   "source": [
    "<hr>"
   ]
  },
  {
   "cell_type": "markdown",
   "id": "3e8c4ae6",
   "metadata": {
    "id": "3e8c4ae6"
   },
   "source": [
    "## サンプルデータを読み込みましょう"
   ]
  },
  {
   "cell_type": "code",
   "execution_count": 8,
   "id": "44c87c06",
   "metadata": {
    "colab": {
     "base_uri": "https://localhost:8080/"
    },
    "id": "44c87c06",
    "outputId": "e8cf0d69-acc1-43d0-945d-59512f3cd148"
   },
   "outputs": [
    {
     "name": "stdout",
     "output_type": "stream",
     "text": [
      "C:\\Users\\Shigeyuki Matsunami\\Dropbox\\4_データ設計\\1_データ構造化\\Github\\Training_Program_5\\Training_Program_5\\Training_Program_5\\Training_Program_5\n"
     ]
    },
    {
     "name": "stderr",
     "output_type": "stream",
     "text": [
      "Cloning into 'Training_Program_5'...\n"
     ]
    }
   ],
   "source": [
    "!git clone https://github.com/ARIM-Training/Training_Program_5.git\n",
    "%cd Training_Program_5"
   ]
  },
  {
   "cell_type": "markdown",
   "id": "5651aed7",
   "metadata": {
    "id": "5651aed7"
   },
   "source": [
    "これで準備が整いました．"
   ]
  },
  {
   "cell_type": "markdown",
   "id": "790a0f55",
   "metadata": {
    "id": "790a0f55"
   },
   "source": [
    "<hr>"
   ]
  },
  {
   "cell_type": "markdown",
   "id": "54c4945a",
   "metadata": {
    "id": "54c4945a"
   },
   "source": [
    "## 1. ライブラリーを読み込みましょう\n",
    "最初にコードを走らせるのに必要なライブラリーを読み込みます．  NMRのデータ処理では，``nmrglue``という専用ライブラリを使います．\n",
    "\n",
    " * 標準ライブラリー: ``glob``, ``os``, ``re``,``shutil``\n",
    " * NMR処理用: ``nmrglue``\n",
    " * 数値処理用: ``numpy``\n",
    " * 可視化用: ``matplotlib``  \n",
    " \n",
    " なおGoogle Colabでの動作ではnmrglueをpip installする必要があります．その時は，下記のコメントアウトしている行を実行してください．"
   ]
  },
  {
   "cell_type": "code",
   "execution_count": 1,
   "id": "305a0929",
   "metadata": {
    "id": "305a0929"
   },
   "outputs": [],
   "source": [
    "# モジュール\n",
    "import os\n",
    "import glob\n",
    "import re\n",
    "import shutil\n",
    "\n",
    "\n",
    "# NMR処理用　\n",
    "#!pip install nmrglue\n",
    "import nmrglue as ng\n",
    "\n",
    "# 数値処理用\n",
    "import numpy as np\n",
    "import pandas as pd\n",
    "\n",
    "# 可視化\n",
    "from matplotlib import pyplot as plt"
   ]
  },
  {
   "cell_type": "markdown",
   "id": "2e5ccc64",
   "metadata": {
    "id": "2e5ccc64"
   },
   "source": [
    "また，出力結果を「output」フォルダーに保存するため，そのフォルダーの作成をします．"
   ]
  },
  {
   "cell_type": "code",
   "execution_count": 2,
   "id": "be11d240",
   "metadata": {
    "id": "be11d240"
   },
   "outputs": [],
   "source": [
    "output_folder = 'output'\n",
    "os.makedirs(output_folder,exist_ok = True)"
   ]
  },
  {
   "cell_type": "markdown",
   "id": "3b9f8120",
   "metadata": {
    "id": "3b9f8120"
   },
   "source": [
    "# 2. nmrglueの基本動作\n",
    "``nmrglue``はBrukerやVarianなどの欧米のNMRメーカーのデータはrawデータから読み込めるようになっています．残念ながらJEOLのrawデータ形式である.jdfには対応していません．\n",
    "\n",
    "代わりにIUPACで標準のテキストフォーマットであるJCAMP-DXは読み込めます．JEOLの出力ファイルとしてJCAMP-DX（.jdx）として，そのファイルを起点として処理する方法を以下では示してゆきます．\n",
    "\n",
    "なお，実際のデータ蓄積ではrawデータ（.jdf）をJCAMP-DXのコンバーター（converter.exe）を介して.jdxへと変換をかけてpythonへと引き渡す予定としております．"
   ]
  },
  {
   "cell_type": "markdown",
   "id": "04b0f4c3",
   "metadata": {},
   "source": [
    "## 2.1.ファイルの読み込み\n",
    "``nmrglue``のjcampdx.read()モジュールからファイル名を指定します．このモジュールを実行するとメタデータ（``meta_data``）と数値データ(``raw_data``)を返します．"
   ]
  },
  {
   "cell_type": "code",
   "execution_count": 3,
   "id": "5c19c860",
   "metadata": {},
   "outputs": [],
   "source": [
    "file = 'data/EB_Proton-1.jdx'\n",
    "meta_data, raw_data  = ng.jcampdx.read(file)"
   ]
  },
  {
   "cell_type": "markdown",
   "id": "c58c75ca",
   "metadata": {},
   "source": [
    "### 2.1.1. メタデータ\n",
    "``meta_data``は.jdxファイルに出力されている測定パラメータのメタデータで，pythonの辞書形式で格納されます．"
   ]
  },
  {
   "cell_type": "code",
   "execution_count": 4,
   "id": "7601626b",
   "metadata": {},
   "outputs": [
    {
     "data": {
      "text/plain": [
       "{'_comments': ['JEOL NMR v1.10',\n",
       "  '------------------------',\n",
       "  'JEOL SPECIFIC PARAMETERS',\n",
       "  'ppm',\n",
       "  'ppm',\n",
       "  'ppm',\n",
       "  'MHz',\n",
       "  'kHz',\n",
       "  'Hz',\n",
       "  'kHz',\n",
       "  'ppm',\n",
       "  'dC',\n",
       "  'us',\n",
       "  'kHz',\n",
       "  'ppm',\n",
       "  'deg',\n",
       "  'deg',\n",
       "  'us',\n",
       "  'us',\n",
       "  'us',\n",
       "  's',\n",
       "  'T',\n",
       "  'dC',\n",
       "  'Hz',\n",
       "  'Hz',\n",
       "  '%',\n",
       "  '%',\n",
       "  'MHz',\n",
       "  'MHz',\n",
       "  'ppm',\n",
       "  's',\n",
       "  'Hz',\n",
       "  'ppm',\n",
       "  's',\n",
       "  's',\n",
       "  's',\n",
       "  's',\n",
       "  'mdB',\n",
       "  'deg',\n",
       "  'dB',\n",
       "  'dB',\n",
       "  'mHz',\n",
       "  'mHz',\n",
       "  'mHz',\n",
       "  'mHz',\n",
       "  's',\n",
       "  's',\n",
       "  'Hz',\n",
       "  'Hz',\n",
       "  'Hz',\n",
       "  'Hz',\n",
       "  'Hz',\n",
       "  'Hz',\n",
       "  'Hz',\n",
       "  'Hz',\n",
       "  'Hz',\n",
       "  'Hz',\n",
       "  'Hz',\n",
       "  'Hz',\n",
       "  'Hz',\n",
       "  'Hz',\n",
       "  'kHz',\n",
       "  'Hz',\n",
       "  'Hz',\n",
       "  'Hz',\n",
       "  'Hz',\n",
       "  'Hz',\n",
       "  'Hz',\n",
       "  's',\n",
       "  'dB',\n",
       "  's',\n",
       "  's',\n",
       "  'us',\n",
       "  'us',\n",
       "  'END OF JEOL SPECIFIC PARAMETERS',\n",
       "  '-------------------------------',\n",
       "  'checkpoint',\n",
       "  'checkpoint'],\n",
       " 'TITLE': ['EB'],\n",
       " 'JCAMPDX': ['6.00'],\n",
       " 'DATATYPE': ['NMR SPECTRUM'],\n",
       " 'DATACLASS': ['NTUPLES'],\n",
       " 'NUMDIM': ['1'],\n",
       " 'ORIGIN': ['DELTA2_NMR'],\n",
       " 'OWNER': ['delta'],\n",
       " 'LONGDATE': ['2021/05/12 14:28:05'],\n",
       " 'SPECTROMETERDATASYSTEM': ['DELTA2_NMR'],\n",
       " '.OBSERVEFREQUENCY': ['3.9978219837825E+02'],\n",
       " '.OBSERVENUCLEUS': ['^1H'],\n",
       " '.DELAY': ['(1.614E+01,1.614E+01)'],\n",
       " '.ACQUISITIONMODE': ['SIMULTANEOUS'],\n",
       " '.ACQUISITIONSCHEME': ['PHASE SENSITIVE'],\n",
       " '.PULSESEQUENCE': ['proton.jxp'],\n",
       " '.SOLVENTNAME': ['CHLOROFORM-D'],\n",
       " '.FIELD': ['9.389766'],\n",
       " '.FILTERWIDTH': ['9.0221823655936'],\n",
       " '.ACQUISITIONTIME': ['2.18365952'],\n",
       " '.SPINNINGRATE': ['15'],\n",
       " '.OBSERVE90': ['6.83'],\n",
       " '$FILENAME': ['C:\\\\Users\\\\delta\\\\AppData\\\\Local\\\\Temp\\\\delta\\\\EB_Proton-1-1.jdf'],\n",
       " '$TITLE': ['EB'],\n",
       " '$AUTHOR': ['delta'],\n",
       " '$CREATION': ['12-MAY-2021 14:28:05'],\n",
       " '$REVISION': ['12-MAY-2021 14:39:22'],\n",
       " '$CONTENT': ['single_pulse'],\n",
       " '$INSTRUMENT': ['DELTA2_NMR'],\n",
       " '$SITE': ['JNM-ECS400'],\n",
       " '$NODENAME': ['FWPXAWO3HD'],\n",
       " '$DIMENSIONS': ['1'],\n",
       " '$STORAGE': ['FLOAT'],\n",
       " '$XFORMAT': ['COMPLEX'],\n",
       " '$XCURRPOINTS': ['13107'],\n",
       " '$XSTART': ['12.5064'],\n",
       " '$XSTOP': ['-2.5064'],\n",
       " '$XTITLE': ['Proton'],\n",
       " '$XZEROPOINT': ['0'],\n",
       " '$XFREQFLIP': ['FALSE'],\n",
       " '$XPOINTS': ['16384'],\n",
       " '$XPRESCANS': ['1'],\n",
       " '$XDOMAIN': ['1H'],\n",
       " '$XOFFSET': ['5'],\n",
       " '$XFREQ': ['399.7822'],\n",
       " '$XSWEEP': ['7.503'],\n",
       " '$XRESOLUTION': ['0.45795'],\n",
       " '$XCURRSWEEP': ['7.503'],\n",
       " '$XCURROFFSET': ['5'],\n",
       " '$SOLVENT': ['CHLOROFORM-D'],\n",
       " '$TEMPGET': ['23'],\n",
       " '$ACQDELAY': ['16.14'],\n",
       " '$DIGITALFILTER': ['TRUE'],\n",
       " '$FILTERFACTOR': ['8'],\n",
       " '$FILTERWIDTH': ['31'],\n",
       " '$TRANSITIONRATIO': ['0.8'],\n",
       " '$ORDERS': ['2 28 73'],\n",
       " '$FACTORS': ['4  2'],\n",
       " '$DIGITALFILTERSTATUS': ['2P'],\n",
       " '$LOCKSTRENGTH': ['585'],\n",
       " '$LOCKLEVEL': ['180'],\n",
       " '$LOCKGAIN': ['20'],\n",
       " '$LOCKOSCOFFSET': ['7.26'],\n",
       " '$LOCKPHASE': ['91.40625'],\n",
       " '$LOCKOSCSTATE': ['2H OSC ON'],\n",
       " '$XANGLE': ['45'],\n",
       " '$X90': ['6.83'],\n",
       " '$X90WIDTH': ['6.83'],\n",
       " '$XPULSE': ['3.415'],\n",
       " '$RELAXATIONDELAY': ['5'],\n",
       " '$SCANS': ['8'],\n",
       " '$PROBEID': ['2772'],\n",
       " '$ITERATIONS': ['1'],\n",
       " '$FIELDSTRENGTH': ['9.38977'],\n",
       " '$TEMPSET': ['25'],\n",
       " '$SPINSET': ['15'],\n",
       " '$SPINGET': ['15'],\n",
       " '$HELEVEL': ['56'],\n",
       " '$N2LEVEL': ['100'],\n",
       " '$CHANGERSLOT': ['24'],\n",
       " '$EXPERIMENT': ['proton.jxp'],\n",
       " '$IRRDOMAIN': ['Proton'],\n",
       " '$TRIDOMAIN': ['Proton'],\n",
       " '$IRRFREQ': ['399.7822'],\n",
       " '$TRIFREQ': ['399.7822'],\n",
       " '$RECVRGAIN': ['56'],\n",
       " '$IRROFFSET': ['5'],\n",
       " '$PROBERECOVERY': ['0.00001'],\n",
       " '$MODRETURN': ['1'],\n",
       " '$TOTALSCANS': ['8'],\n",
       " '$XSWEEPCLIPPED': ['6002.40096'],\n",
       " '$TRIOFFSET': ['5'],\n",
       " '$XACQDURATION': ['2.18366'],\n",
       " '$AFVERSION': ['1'],\n",
       " '$DELAYOFSTART': ['2.0'],\n",
       " '$ACTUALSTARTTIME': ['989645286'],\n",
       " '$CLIPPED': ['FALSE'],\n",
       " '$AFDELAYRATIO': ['0'],\n",
       " '$AUTOSHIMMODE': ['AUTOSHIM OFF'],\n",
       " '$BUFFERLOOP': ['1'],\n",
       " '$BUFFERLOOPINDEX': ['1'],\n",
       " '$CHANGERSLOTPOSITION': ['24'],\n",
       " '$COLLECTIONSTATE': ['Collect'],\n",
       " '$ENDTIME': ['989645352'],\n",
       " '$EXPREMAINING': ['1'],\n",
       " '$EXPTOTAL': ['67'],\n",
       " '$LOCKSTATE': ['AUTOLOCK'],\n",
       " '$LOCKSTATUS': ['LOCK IDLE'],\n",
       " '$NUMSCANS': ['1'],\n",
       " '$OUTERBUFFERLOOP': ['1'],\n",
       " '$OUTERBUFFERLOOPINDEX': ['1'],\n",
       " '$OUTERSCANSLOOP': ['1'],\n",
       " '$OUTERSCANSLOOPINDEX': ['1'],\n",
       " '$PASSRIPPLE': ['10'],\n",
       " '$PROJECTID': ['72'],\n",
       " '$PROJECTNAME': ['Taro'],\n",
       " '$RECVRGAINLIMIT': ['80'],\n",
       " '$RECVRGAINPOINT': ['200000'],\n",
       " '$RECVRPHASE': ['0'],\n",
       " '$SAMPLE': ['1052'],\n",
       " '$SAMPLEACTION': ['LOADED'],\n",
       " '$SAMPLEID': ['EB'],\n",
       " '$SAMPLESTATE': ['LOAD'],\n",
       " '$SAMPLESTATUS': ['LOADED'],\n",
       " '$SAWTOOTHRANGE': ['4'],\n",
       " '$SCAN': ['8'],\n",
       " '$SCANSLOOP': ['8'],\n",
       " '$SCANSLOOPINDEX': ['8'],\n",
       " '$SHIMDELAYSTATE': ['0'],\n",
       " '$SPINACTION': ['SPIN ON'],\n",
       " '$SPINSTATE': ['SPIN ON'],\n",
       " '$SPINSTATUS': ['SPIN ON'],\n",
       " '$STOPRIPPLE': ['60'],\n",
       " '$TEMPACTION': ['TEMP OFF'],\n",
       " '$TEMPSTATE': ['TEMP OFF'],\n",
       " '$TEMPSTATUS': ['TEMP OFF'],\n",
       " '$INSTMODELNUMBER': ['JNM-ECS400'],\n",
       " '$INSTSERIALNUMBER': ['NM1441001300130'],\n",
       " '$PROBETUNEATN': ['19'],\n",
       " '$SAWTOOTHSHIFT': ['7'],\n",
       " '$SAWTOOTHTRIM': ['1.17'],\n",
       " '$SHIMGROUPS': ['Z1 Z2 Z3 Z4'],\n",
       " '$SHIMNAMES': ['SHIM_Z0'],\n",
       " '$SHIMTRACKAXIS1': ['NONE'],\n",
       " '$SHIMTRACKAXIS1STEP': ['0'],\n",
       " '$SHIMTRACKAXIS2': ['NONE'],\n",
       " '$SHIMTRACKAXIS2STEP': ['0'],\n",
       " '$SHIMTRACKAXIS3': ['NONE'],\n",
       " '$SHIMTRACKAXIS3STEP': ['0'],\n",
       " '$SHIMTRACKAXIS4': ['NONE'],\n",
       " '$SHIMTRACKAXIS4STEP': ['0'],\n",
       " '$SHIMTRACKMONIMSECS': ['0'],\n",
       " '$SHIMTRACKSKIPAUTOSHIM': ['OFF'],\n",
       " '$SHIMTRACKWAITMSECS': ['0'],\n",
       " '$SHIMX': ['227'],\n",
       " '$SHIMX2': ['-399'],\n",
       " '$SHIMX2Z': ['23.6'],\n",
       " '$SHIMX3': ['-58.6'],\n",
       " '$SHIMXZ': ['21.3'],\n",
       " '$SHIMXZ2': ['17'],\n",
       " '$SHIMXZ3': ['-11'],\n",
       " '$SHIMY': ['1.5'],\n",
       " '$SHIMY2': ['34'],\n",
       " '$SHIMY2Z': ['14'],\n",
       " '$SHIMY3': ['-50'],\n",
       " '$SHIMYZ': ['-58'],\n",
       " '$SHIMYZ2': ['-44'],\n",
       " '$SHIMYZ3': ['9'],\n",
       " '$SHIMZ0': ['-13.01'],\n",
       " '$SHIMZ1': ['85.52'],\n",
       " '$SHIMZ2': ['42.14'],\n",
       " '$SHIMZ3': ['277.42'],\n",
       " '$SHIMZ4': ['-17.53'],\n",
       " '$SHIMZ5': ['1.9'],\n",
       " '$SHIMZ6': ['-3.87'],\n",
       " '$VERSION': ['5.0.6 [Windows]'],\n",
       " '$XACQTIME': ['2.18366'],\n",
       " '$XATN': ['1'],\n",
       " '$INITIALWAIT': ['1'],\n",
       " '$REPETITIONTIME': ['7.18366'],\n",
       " '$DEADTIME': ['0'],\n",
       " '$DELAY': ['0'],\n",
       " '$DANTEPRESAT': ['FALSE'],\n",
       " '$IRRMODE': ['Off'],\n",
       " '$TRIMODE': ['Off'],\n",
       " '$PHASE': ['{0, 90, 270, 180, 180, 270, 90, 0}'],\n",
       " '$PHASEACQ': ['{0, 90, 270, 180, 180, 270, 90, 0}'],\n",
       " '$XPROBEMAP': ['HF1'],\n",
       " '$DCBALANCED': ['FALSE'],\n",
       " '$XSCALE': ['1'],\n",
       " '$NORMALIZED': ['TRUE'],\n",
       " '$FFTCLIPPED': ['TRUE'],\n",
       " 'NTUPLES': ['NMR SPECTRUM'],\n",
       " 'VARNAME': ['FREQUENCY,    SPECTRUM/REAL, SPECTRUM/IMAG, PAGE NUMBER'],\n",
       " 'SYMBOL': ['X,            R,             I,             N'],\n",
       " 'VARTYPE': ['INDEPENDENT,  DEPENDENT,     DEPENDENT,     PAGE'],\n",
       " 'VARFORM': ['AFFN,         ASDF,          ASDF,          AFFN'],\n",
       " 'VARDIM': ['13107, 13107, 13107, 2'],\n",
       " 'UNITS': ['PPM,     ARBITRARY UNITS, ARBITRARY UNITS,'],\n",
       " 'FIRST': ['1.250640154628E+01, 2.41910713096752E-12, 1.2000878912373E-10, 1'],\n",
       " 'LAST': ['-2.50640154627999, 3.44438606514234E-11, -1.1045393723872E-10, 2'],\n",
       " 'FACTOR': ['1.14549085095071E-03, 6.45101609091562E-09, 6.45101609091562E-09, 1'],\n",
       " 'PAGE': ['N=1', 'N=2']}"
      ]
     },
     "execution_count": 4,
     "metadata": {},
     "output_type": "execute_result"
    }
   ],
   "source": [
    "meta_data"
   ]
  },
  {
   "cell_type": "markdown",
   "id": "e08db6b6",
   "metadata": {},
   "source": [
    "ここから必要なメタデータを抽出することができます．例えばメタデータの'TITLE'を見る場合には以下のようにpythonの辞書形式のルールから得ることができます．"
   ]
  },
  {
   "cell_type": "code",
   "execution_count": 5,
   "id": "64b95446",
   "metadata": {},
   "outputs": [
    {
     "data": {
      "text/plain": [
       "['EB']"
      ]
     },
     "execution_count": 5,
     "metadata": {},
     "output_type": "execute_result"
    }
   ],
   "source": [
    "meta_data['TITLE']"
   ]
  },
  {
   "cell_type": "markdown",
   "id": "340e343e",
   "metadata": {},
   "source": [
    "### 2.1.2. 数値データ\n",
    "一方で数値部の``raw_data``は実数部と虚数部を``numpy``のarray配列のlist形式で返します．"
   ]
  },
  {
   "cell_type": "code",
   "execution_count": 6,
   "id": "69e4cda9",
   "metadata": {},
   "outputs": [
    {
     "data": {
      "text/plain": [
       "[array([0.000375  , 0.00610869, 0.01023989, ..., 0.00227133, 0.00733475,\n",
       "        0.00533929]),\n",
       " array([ 0.01860309,  0.0218997 ,  0.00991799, ..., -0.01519652,\n",
       "        -0.01721408, -0.01712195])]"
      ]
     },
     "execution_count": 6,
     "metadata": {},
     "output_type": "execute_result"
    }
   ],
   "source": [
    "raw_data"
   ]
  },
  {
   "cell_type": "markdown",
   "id": "6ea276fb",
   "metadata": {},
   "source": [
    "それぞれを可視化してみましょう．  \n",
    "まずは実数部のデータはlistの最初の配列に格納されている部分です．\n",
    "``matplotlib``のplotで表示します．"
   ]
  },
  {
   "cell_type": "code",
   "execution_count": 7,
   "id": "ab5d1f9a",
   "metadata": {},
   "outputs": [
    {
     "data": {
      "image/png": "[encoded data removed]",
      "text/plain": [
       "<Figure size 432x288 with 1 Axes>"
      ]
     },
     "metadata": {
      "needs_background": "light"
     },
     "output_type": "display_data"
    }
   ],
   "source": [
    "plt.plot(raw_data[0])\n",
    "plt.show()"
   ]
  },
  {
   "cell_type": "markdown",
   "id": "fa534134",
   "metadata": {},
   "source": [
    "続いて虚数部です．listの2番目に格納されている数値郡です．"
   ]
  },
  {
   "cell_type": "code",
   "execution_count": 8,
   "id": "a9fcf526",
   "metadata": {},
   "outputs": [
    {
     "data": {
      "image/png": "[encoded data removed]",
      "text/plain": [
       "<Figure size 432x288 with 1 Axes>"
      ]
     },
     "metadata": {
      "needs_background": "light"
     },
     "output_type": "display_data"
    }
   ],
   "source": [
    "plt.plot(raw_data[1])\n",
    "plt.show()"
   ]
  },
  {
   "cell_type": "markdown",
   "id": "d74ae9f5",
   "metadata": {},
   "source": [
    "実数部および虚数部の横軸はポイント数の数字となっています．  \n",
    "ポイント数は，次のようにして測定メタデータの中から調べることができます."
   ]
  },
  {
   "cell_type": "code",
   "execution_count": 9,
   "id": "9915615c",
   "metadata": {},
   "outputs": [
    {
     "data": {
      "text/plain": [
       "['13107']"
      ]
     },
     "execution_count": 9,
     "metadata": {},
     "output_type": "execute_result"
    }
   ],
   "source": [
    "meta_data[\"$XCURRPOINTS\"]"
   ]
  },
  {
   "cell_type": "markdown",
   "id": "2dbad94b",
   "metadata": {},
   "source": [
    "## 2.2. 軸の変換\n",
    "スペクトルの作図のための`` axis_convert``関数を次のように作成します．  \n",
    "jdxがFIDの場合には横軸を時間スケールとするmsecへ，FFTの場合にはケミカルシフトとしてppmへの変換を行います．その変換した数値をx_scaleとして返します．"
   ]
  },
  {
   "cell_type": "code",
   "execution_count": 10,
   "id": "ec0049ef",
   "metadata": {
    "id": "ec0049ef"
   },
   "outputs": [],
   "source": [
    "def axis_convert(file):\n",
    "    \"\"\"\n",
    "    概要: 数値部の抽出\n",
    "    @param file: jdxファイル\n",
    "    @return dataframe（数値データ,メタデータ，x軸スケール）\n",
    "    \"\"\"\n",
    "\n",
    "    # ファイルの読み込みとヘッダー部の読み出し\n",
    "    meta_data, raw_data  = ng.jcampdx.read(file)\n",
    "    \n",
    "    npoints = int(meta_data[\"$XCURRPOINTS\"][0])\n",
    "    data = np.empty((npoints, ), dtype='complex128')\n",
    "    data.real = raw_data[0][:]\n",
    "    data.imag = raw_data[1][:]\n",
    "    \n",
    "    udic = ng.jcampdx.guess_udic(meta_data, data)\n",
    "   \n",
    "    if meta_data['DATATYPE'] == ['NMR SPECTRUM']:\n",
    "        \n",
    "        #中心周波数\n",
    "        udic[0]['car'] = float(meta_data[\"$XOFFSET\"][0])*float(meta_data[\"$XFREQ\"][0])\n",
    "        \n",
    "        # PPMスケールの設定\n",
    "        uc = ng.fileiobase.uc_from_udic(udic)\n",
    "        x_scale = uc.ppm_scale()\n",
    "        \n",
    "    else:\n",
    "        # msecスケールの設定        \n",
    "        uc = ng.fileiobase.uc_from_udic(udic)\n",
    "        x_scale = uc.ms_scale()\n",
    "    \n",
    "    return data, meta_data, x_scale"
   ]
  },
  {
   "cell_type": "markdown",
   "id": "cd7eea62",
   "metadata": {},
   "source": [
    "実際にこの関数を走らせてみましょう．FFTのデータであるエチルベンゼンの「EB_Proton-1.jdx」を使います．"
   ]
  },
  {
   "cell_type": "code",
   "execution_count": 11,
   "id": "193186cc",
   "metadata": {},
   "outputs": [],
   "source": [
    "file = 'data/EB_Proton-1.jdx'\n",
    "data, meta_data, x_scale = axis_convert(file)"
   ]
  },
  {
   "cell_type": "markdown",
   "id": "f57f986a",
   "metadata": {},
   "source": [
    "横軸のx_scaleを見るとppmの値が得られます．"
   ]
  },
  {
   "cell_type": "code",
   "execution_count": 12,
   "id": "20f1d59e",
   "metadata": {},
   "outputs": [
    {
     "data": {
      "text/plain": [
       "array([12.50640157, 12.50525616, 12.50411076, ..., -2.50296532,\n",
       "       -2.50411072, -2.50525612])"
      ]
     },
     "execution_count": 12,
     "metadata": {},
     "output_type": "execute_result"
    }
   ],
   "source": [
    "x_scale"
   ]
  },
  {
   "cell_type": "markdown",
   "id": "be79a488",
   "metadata": {
    "id": "be79a488"
   },
   "source": [
    "## 2.3. スペクトルの作成\n",
    "スペクトルの作図は上記の`` axis_convert``関数で得られる数値データ，メタデータ，およびx軸スケールを用います．"
   ]
  },
  {
   "cell_type": "code",
   "execution_count": 13,
   "id": "91ca2376",
   "metadata": {
    "id": "91ca2376"
   },
   "outputs": [],
   "source": [
    "def make_spectrum(data, meta_data, x_scale, output_file_name):\n",
    "\n",
    "    #　図の設定 \n",
    "    hfont = {'fontname': 'Arial'}\n",
    "    fig, ax = plt.subplots(1,1, figsize=(16,9))\n",
    "             \n",
    "    ax.plot(x_scale,data.real, 'k-')\n",
    "    \n",
    "    ax.set_yticklabels([])\n",
    "\n",
    "    obs_nuc_table = ['^1H','^13C','^15N','^19F','^29Si','^31P']\n",
    "    nuc_table = ['1H','13C','15N','19F','29Si','31P']\n",
    "    \n",
    "    nuc = ''.join(meta_data['.OBSERVENUCLEUS'])\n",
    "                  \n",
    "    if nuc in obs_nuc_table:\n",
    "              \n",
    "        i = obs_nuc_table.index(nuc)\n",
    "               \n",
    "        if meta_data['DATATYPE'] == ['NMR SPECTRUM']:\n",
    "            ax.invert_xaxis()\n",
    "            ax.set_title(file + ' ' + nuc_table[i]+'_spectrum', **hfont, fontsize = 16)\n",
    "            ax.set_xlabel(nuc_table[i]+' ppm',**hfont, fontsize = 14)\n",
    "        \n",
    "            #出力\n",
    "            plt.savefig('output/' + output_file_name + '_'+ nuc_table[i]+'_spectrum.png', dpi=300)\n",
    "            \n",
    "        else: \n",
    "            ax.set_title(file + ' ' + nuc_table[i]+'_FID', **hfont, fontsize = 16)\n",
    "            ax.set_xlabel(nuc_table[i]+' msec',**hfont, fontsize = 14)\n",
    "        \n",
    "            #出力\n",
    "            plt.savefig('output/' + output_file_name + '_'+ nuc_table[i]+'_FID.png', dpi=300)"
   ]
  },
  {
   "cell_type": "code",
   "execution_count": 14,
   "id": "80949cd9",
   "metadata": {},
   "outputs": [
    {
     "data": {
      "image/png": "[encoded data removed]",
      "text/plain": [
       "<Figure size 1152x648 with 1 Axes>"
      ]
     },
     "metadata": {
      "needs_background": "light"
     },
     "output_type": "display_data"
    }
   ],
   "source": [
    "output_file_name = 'EB_Proton-1'\n",
    "make_spectrum(data, meta_data, x_scale, output_file_name)"
   ]
  },
  {
   "cell_type": "markdown",
   "id": "7592be33",
   "metadata": {},
   "source": [
    "## 2.4. ピークピッキング"
   ]
  },
  {
   "cell_type": "code",
   "execution_count": 53,
   "id": "eb833121",
   "metadata": {},
   "outputs": [],
   "source": [
    "threshold = 1\n",
    "peaks = ng.peakpick.pick(data.real, pthres=threshold, algorithm=\"downward\")"
   ]
  },
  {
   "cell_type": "code",
   "execution_count": 56,
   "id": "0c9f8eb5",
   "metadata": {},
   "outputs": [
    {
     "data": {
      "image/png": "[encoded data removed]",
      "text/plain": [
       "<Figure size 1152x648 with 1 Axes>"
      ]
     },
     "metadata": {
      "needs_background": "light"
     },
     "output_type": "display_data"
    }
   ],
   "source": [
    "udic = ng.jcampdx.guess_udic(meta_data, data)\n",
    "   \n",
    "if meta_data['DATATYPE'] == ['NMR SPECTRUM']:\n",
    "  #中心周波数\n",
    "  udic[0]['car'] = float(meta_data[\"$XOFFSET\"][0])*float(meta_data[\"$XFREQ\"][0])\n",
    "        \n",
    "  # PPMスケールの設定\n",
    "  uc = ng.fileiobase.uc_from_udic(udic)\n",
    "\n",
    "#　図の設定\n",
    "hfont = {'fontname': 'Arial'}\n",
    "fig, ax = plt.subplots(1,1, figsize=(16,9))\n",
    "             \n",
    "ax.plot(x_scale,data.real, 'k-')\n",
    "ax.invert_xaxis()\n",
    "\n",
    "height_list = []\n",
    "ppm_list = []\n",
    "\n",
    "# add markers for peak positions\n",
    "for n, peak in enumerate(peaks):\n",
    "    height = data.real[int(peak[\"X_AXIS\"])]\n",
    "    ppm = uc.ppm(peak[\"X_AXIS\"])\n",
    "    \n",
    "    ax.scatter(ppm, height, marker=\"o\", color=\"r\", s=50, alpha=0.5)\n",
    "    ax.text(ppm, height*1.05, n + 1, ha=\"center\", va=\"center\")\n",
    "    \n",
    "    height_list.append(height)\n",
    "    ppm_list.append(ppm)"
   ]
  },
  {
   "cell_type": "code",
   "execution_count": 58,
   "id": "0bbb7a18",
   "metadata": {},
   "outputs": [
    {
     "data": {
      "text/html": [
       "<div>\n",
       "<style scoped>\n",
       "    .dataframe tbody tr th:only-of-type {\n",
       "        vertical-align: middle;\n",
       "    }\n",
       "\n",
       "    .dataframe tbody tr th {\n",
       "        vertical-align: top;\n",
       "    }\n",
       "\n",
       "    .dataframe thead th {\n",
       "        text-align: right;\n",
       "    }\n",
       "</style>\n",
       "<table border=\"1\" class=\"dataframe\">\n",
       "  <thead>\n",
       "    <tr style=\"text-align: right;\">\n",
       "      <th></th>\n",
       "      <th>ppm</th>\n",
       "      <th>height</th>\n",
       "    </tr>\n",
       "  </thead>\n",
       "  <tbody>\n",
       "    <tr>\n",
       "      <th>1</th>\n",
       "      <td>7.274199</td>\n",
       "      <td>2.428906</td>\n",
       "    </tr>\n",
       "    <tr>\n",
       "      <th>2</th>\n",
       "      <td>7.255872</td>\n",
       "      <td>2.319117</td>\n",
       "    </tr>\n",
       "    <tr>\n",
       "      <th>3</th>\n",
       "      <td>7.249000</td>\n",
       "      <td>4.239047</td>\n",
       "    </tr>\n",
       "    <tr>\n",
       "      <th>4</th>\n",
       "      <td>7.200893</td>\n",
       "      <td>2.854520</td>\n",
       "    </tr>\n",
       "    <tr>\n",
       "      <th>5</th>\n",
       "      <td>7.182566</td>\n",
       "      <td>2.313615</td>\n",
       "    </tr>\n",
       "    <tr>\n",
       "      <th>6</th>\n",
       "      <td>7.165385</td>\n",
       "      <td>1.215844</td>\n",
       "    </tr>\n",
       "    <tr>\n",
       "      <th>7</th>\n",
       "      <td>2.671967</td>\n",
       "      <td>1.003848</td>\n",
       "    </tr>\n",
       "    <tr>\n",
       "      <th>8</th>\n",
       "      <td>2.652496</td>\n",
       "      <td>2.987133</td>\n",
       "    </tr>\n",
       "    <tr>\n",
       "      <th>9</th>\n",
       "      <td>2.634169</td>\n",
       "      <td>3.032339</td>\n",
       "    </tr>\n",
       "    <tr>\n",
       "      <th>10</th>\n",
       "      <td>2.614697</td>\n",
       "      <td>1.076728</td>\n",
       "    </tr>\n",
       "    <tr>\n",
       "      <th>11</th>\n",
       "      <td>1.527709</td>\n",
       "      <td>13.853452</td>\n",
       "    </tr>\n",
       "    <tr>\n",
       "      <th>12</th>\n",
       "      <td>1.250522</td>\n",
       "      <td>5.996773</td>\n",
       "    </tr>\n",
       "    <tr>\n",
       "      <th>13</th>\n",
       "      <td>1.232195</td>\n",
       "      <td>12.474124</td>\n",
       "    </tr>\n",
       "    <tr>\n",
       "      <th>14</th>\n",
       "      <td>1.212723</td>\n",
       "      <td>6.924516</td>\n",
       "    </tr>\n",
       "    <tr>\n",
       "      <th>15</th>\n",
       "      <td>-0.010567</td>\n",
       "      <td>4.020858</td>\n",
       "    </tr>\n",
       "  </tbody>\n",
       "</table>\n",
       "</div>"
      ],
      "text/plain": [
       "         ppm     height\n",
       "1   7.274199   2.428906\n",
       "2   7.255872   2.319117\n",
       "3   7.249000   4.239047\n",
       "4   7.200893   2.854520\n",
       "5   7.182566   2.313615\n",
       "6   7.165385   1.215844\n",
       "7   2.671967   1.003848\n",
       "8   2.652496   2.987133\n",
       "9   2.634169   3.032339\n",
       "10  2.614697   1.076728\n",
       "11  1.527709  13.853452\n",
       "12  1.250522   5.996773\n",
       "13  1.232195  12.474124\n",
       "14  1.212723   6.924516\n",
       "15 -0.010567   4.020858"
      ]
     },
     "execution_count": 58,
     "metadata": {},
     "output_type": "execute_result"
    }
   ],
   "source": [
    "peak_list = pd.DataFrame(list(zip(ppm_list,height_list)), columns = ['ppm','height'])\n",
    "peak_list.index = peak_list.index + 1\n",
    "peak_list"
   ]
  },
  {
   "cell_type": "markdown",
   "id": "fb80c4d8",
   "metadata": {},
   "source": [
    "# 3. 連続処理化"
   ]
  },
  {
   "cell_type": "markdown",
   "id": "74d23d8c",
   "metadata": {
    "id": "74d23d8c"
   },
   "source": [
    "## 3.1. ファイルの拡張子を調べます\n",
    "データ構造化の最初のステップとして，データ構造化するファイルを特定する必要があります．その特定は**拡張子**で判定します．  \n",
    "下記の``read_files``関数は入力ファイルが置いてある「data」フォルダーにある特定の拡張子のファイルをすべてリスト化します．ここでは単一のファイルではなく複数のファイルが扱えることを想定しています．\n",
    "\n",
    "もしエラーがでたら「data」フォルダーを作成し，その中に.jdxファイルを配置してみてください．"
   ]
  },
  {
   "cell_type": "code",
   "execution_count": 39,
   "id": "b6fcb51b",
   "metadata": {
    "id": "b6fcb51b"
   },
   "outputs": [],
   "source": [
    "def read_files(extension):\n",
    "    \"\"\"\n",
    "    概要: 特定の拡張子のついたファイルをすべて読み込む\n",
    "    @param extension: 読み込む拡張子\n",
    "    @return 拡張子をぬいたファイル名，　ファイル数，　出力で使うファイル名\n",
    "    \"\"\"\n",
    "\n",
    "    if extension == 'jdx':\n",
    "        path = 'data/*.' + extension\n",
    "    \n",
    "    else:\n",
    "        path = 'output/*.' + extension\n",
    "        \n",
    "    # 読み込みファイルの取得\n",
    "\n",
    "    input_files = glob.glob(path)\n",
    "    print (input_files)\n",
    "\n",
    "    # 読み込みファイル数の取得\n",
    "    number_of_files = len(input_files)\n",
    "\n",
    "    # 拡張子を抜いたファイル名（出力用）\n",
    "    output_name = [os.path.splitext(os.path.basename(p))[0] for p in input_files]\n",
    "\n",
    "    return input_files, number_of_files, output_name"
   ]
  },
  {
   "cell_type": "markdown",
   "id": "2c54783a",
   "metadata": {
    "id": "2c54783a"
   },
   "source": [
    "\n",
    "JEOLのNMRのJCAMPファイル（テキスト）である``.jdx``を含むファイルを指定してみましょう．"
   ]
  },
  {
   "cell_type": "code",
   "execution_count": 40,
   "id": "fa50e462",
   "metadata": {
    "colab": {
     "base_uri": "https://localhost:8080/"
    },
    "id": "fa50e462",
    "outputId": "5a615fe9-4164-4046-9a80-0c1663f29278"
   },
   "outputs": [
    {
     "name": "stdout",
     "output_type": "stream",
     "text": [
      "['data\\\\EB_Proton-1.jdx']\n"
     ]
    },
    {
     "data": {
      "text/plain": [
       "(['data\\\\EB_Proton-1.jdx'], 1, ['EB_Proton-1'])"
      ]
     },
     "execution_count": 40,
     "metadata": {},
     "output_type": "execute_result"
    }
   ],
   "source": [
    "default_extension = 'jdx'\n",
    "read_files(default_extension)"
   ]
  },
  {
   "cell_type": "markdown",
   "id": "b60ebcbd",
   "metadata": {
    "id": "b60ebcbd"
   },
   "source": [
    "上記のようにリスト配列の結果が戻ります．  \n",
    "１つ目は「data」フォルダーにある.jdxのファイル名（相対パス形式），２つ目はファイル数，３つ目は拡張子（.jdx）を省いたファイル名です．  \n",
    "３番目はグラフのタイトルや出力ファイル名で使うために準備します．"
   ]
  },
  {
   "cell_type": "markdown",
   "id": "2ebcaca2",
   "metadata": {},
   "source": [
    "## 3.2. サムネイル画像の作成（読み飛ばしOK）\n",
    "複数のファイルが登録された場合にどこ画像を代表サムネイルとするかを判定します．  \n",
    "ここではFFTとFIDであれば，FFTを優先します．また複数の観測核があった場合には最も元素番号が大きいものを選ぶ判定をします．"
   ]
  },
  {
   "cell_type": "code",
   "execution_count": 44,
   "id": "e73274ef",
   "metadata": {
    "colab": {
     "base_uri": "https://localhost:8080/",
     "height": 419
    },
    "id": "e73274ef",
    "outputId": "09a8e727-6e79-435a-cb09-a6d35b1e9d20"
   },
   "outputs": [],
   "source": [
    "def make_thumbnail(input_files):\n",
    "    \n",
    "    # 分類\n",
    "    spectrum_files = [s for s in input_files if 'spectrum' in s]\n",
    "    fid_files = [s for s in input_files if 'FID' in s]\n",
    "    \n",
    "    #観測核の元素番号\n",
    "    nuc_numbers = []\n",
    "    \n",
    "    #辞書化\n",
    "    spec = {}\n",
    "\n",
    "    #検出パターン\n",
    "    pattern_spec = re.compile(r'_\\d+\\w+_spectrum')\n",
    "    pattern_FID = re.compile(r'_\\d+\\w+_FID')\n",
    "    pattern_num = re.compile(r'\\d+') \n",
    "\n",
    "    #スペクトルファイルの辞書\n",
    "    if spectrum_files:\n",
    "        for name in spectrum_files:\n",
    "            num = pattern_spec.findall(name)\n",
    "            num2 = pattern_num.findall(num[0])\n",
    "            nuc_numbers.append(int(num2[0]))\n",
    "        \n",
    "            spec = dict(zip(nuc_numbers,spectrum_files))\n",
    "    \n",
    "    #スペクトルファイルがなければFIDの辞書\n",
    "    else:\n",
    "        for name in fid_files:\n",
    "            num = pattern_FID.findall(name)\n",
    "            num2 = pattern_num.findall(num[0])\n",
    "            nuc_numbers.append(int(num2[0])) \n",
    "            \n",
    "            spec = dict(zip(nuc_numbers,fid_files))\n",
    "\n",
    "    #最大値のファイルを選択\n",
    "    max_k, max_v = max(spec.items(), key=lambda x: x[0])\n",
    "    \n",
    "    #サムネイル画像の作成\n",
    "    shutil.copyfile(max_v,'output/main.png')"
   ]
  },
  {
   "cell_type": "markdown",
   "id": "658a743a",
   "metadata": {
    "id": "658a743a"
   },
   "source": [
    "## 3.3.  一本化する\n",
    "上記の一連の処理を一本化することをします．下記のように一本化したコードを``main``関数として定義しておきます．処理の順番を並べるだけです．\n",
    "また，上記ではファイルが一つだけを想定していました．下記の``main``では複数の.rasファイルがある場合にでも実行できるよう``for``ループにしています．\n",
    "\n",
    "計測では複数ファイルを一括して処理する場合がほとんどですので，このような一連の処理は``for``ループ化しておくと作業効率化に効いてきます．"
   ]
  },
  {
   "cell_type": "code",
   "execution_count": 45,
   "id": "74427d3d",
   "metadata": {
    "id": "74427d3d"
   },
   "outputs": [],
   "source": [
    "def main():\n",
    "        \n",
    "    # jcampデータの取り込み\n",
    "    default_extension = 'jdx'\n",
    "\n",
    "    # ファイルの読み込み\n",
    "    [files, f_num, fname] = read_files(default_extension)\n",
    "    \n",
    "    print('\\n read jdx files\\n')    \n",
    "    print(files)\n",
    "    \n",
    "    # データ抽出（1次元スペクトルのみ可視化）\n",
    "    for i in range(f_num):\n",
    "        \n",
    "        #　データ抽出\n",
    "        data, meta_data, x_scale = axis_convert(files[i])\n",
    "\n",
    "        if meta_data['NUMDIM']==['1']:    \n",
    "            make_spectrum(data, meta_data, x_scale, fname[i]) \n",
    "            \n",
    "        else:\n",
    "            continue\n",
    "    \n",
    "    # 画像データの取り込み\n",
    "    default_extension = 'png'\n",
    "    \n",
    "    # 画像ファイルの読み込み\n",
    "    [files, f_num, fname] = read_files(default_extension)\n",
    "    \n",
    "    print('\\n read png files\\n')\n",
    "    print(files)\n",
    "    \n",
    "    #サムネイル画像（代表図）の作成\n",
    "    make_thumbnail(files)"
   ]
  },
  {
   "cell_type": "markdown",
   "id": "ea1c4527",
   "metadata": {
    "id": "ea1c4527"
   },
   "source": [
    "その``main``関数を下記のようにして走らせてみましょう．一連の処理が一貫で行われます．"
   ]
  },
  {
   "cell_type": "code",
   "execution_count": 46,
   "id": "5a2e159c",
   "metadata": {
    "colab": {
     "base_uri": "https://localhost:8080/",
     "height": 842
    },
    "id": "5a2e159c",
    "outputId": "d8695a72-8e90-4c3d-c8c1-2bda6c6f4f3a"
   },
   "outputs": [
    {
     "name": "stdout",
     "output_type": "stream",
     "text": [
      "['data\\\\EB_Proton-1.jdx']\n",
      "\n",
      " read jdx files\n",
      "\n",
      "['data\\\\EB_Proton-1.jdx']\n",
      "['output\\\\EB_Proton-1_1H_spectrum.png']\n",
      "\n",
      " read png files\n",
      "\n",
      "['output\\\\EB_Proton-1_1H_spectrum.png']\n"
     ]
    },
    {
     "data": {
      "image/png": "[encoded data removed]",
      "text/plain": [
       "<Figure size 1152x648 with 1 Axes>"
      ]
     },
     "metadata": {
      "needs_background": "light"
     },
     "output_type": "display_data"
    }
   ],
   "source": [
    "main()"
   ]
  },
  {
   "cell_type": "markdown",
   "id": "gXAYJjMpTDBw",
   "metadata": {
    "id": "gXAYJjMpTDBw"
   },
   "source": [
    "では出力されたグラフおよびCSVを取り出して見てみましょう. PCをお使いの方々はoutput_folderというフォルダーを見れば, グラフとCSVが出力されています.\n",
    "Google Colaboratoryをお使いの方々は, まず下のコマンドコードを実行してください."
   ]
  },
  {
   "cell_type": "code",
   "execution_count": 47,
   "id": "HepJskiRS_6w",
   "metadata": {
    "colab": {
     "base_uri": "https://localhost:8080/"
    },
    "id": "HepJskiRS_6w",
    "outputId": "5ec25ef1-df61-4499-9655-8df92994af3f"
   },
   "outputs": [
    {
     "name": "stderr",
     "output_type": "stream",
     "text": [
      "'pwd' は、内部コマンドまたは外部コマンド、\n",
      "操作可能なプログラムまたはバッチ ファイルとして認識されていません。\n",
      "'ls' は、内部コマンドまたは外部コマンド、\n",
      "操作可能なプログラムまたはバッチ ファイルとして認識されていません。\n"
     ]
    }
   ],
   "source": [
    "!pwd\n",
    "!ls"
   ]
  },
  {
   "cell_type": "markdown",
   "id": "UScAR9z2UE8P",
   "metadata": {
    "id": "UScAR9z2UE8P"
   },
   "source": [
    "現在プログラムを実行しているフォルダーがTraining_Program_1というところで, そこにdataフォルダーやoutputフォルダー, READMEやこのプログラムの書かれたノートブックのファイルであるTraining_1.ipynbもあります. では、次のコマンドコードでoutputフォルダーに移動してみましょう."
   ]
  },
  {
   "cell_type": "code",
   "execution_count": 48,
   "id": "79EbytAtUEHZ",
   "metadata": {
    "colab": {
     "base_uri": "https://localhost:8080/"
    },
    "id": "79EbytAtUEHZ",
    "outputId": "5f5fb732-c9bd-41ff-e29e-d5683dc66a87"
   },
   "outputs": [
    {
     "name": "stdout",
     "output_type": "stream",
     "text": [
      "C:\\Users\\Shigeyuki Matsunami\\Dropbox\\4_データ設計\\1_データ構造化\\Github\\Training_Program_5\\output\n"
     ]
    },
    {
     "name": "stderr",
     "output_type": "stream",
     "text": [
      "'ls' は、内部コマンドまたは外部コマンド、\n",
      "操作可能なプログラムまたはバッチ ファイルとして認識されていません。\n"
     ]
    }
   ],
   "source": [
    "%cd output/\n",
    "!ls"
   ]
  },
  {
   "cell_type": "markdown",
   "id": "5b1VB8fRUrqZ",
   "metadata": {
    "id": "5b1VB8fRUrqZ"
   },
   "source": [
    "XRD_RIGAKU_extract.csvというCSVファイルと, XRD_RIGAKU.pngという画像ファイルが出てきました. これを以下のプログラムコードを実行して取り出して見ましょう."
   ]
  },
  {
   "cell_type": "code",
   "execution_count": 17,
   "id": "O94TgCOUVLPi",
   "metadata": {
    "colab": {
     "base_uri": "https://localhost:8080/",
     "height": 17
    },
    "id": "O94TgCOUVLPi",
    "outputId": "466b2e6e-a3ac-45c1-a412-9945a8eca279"
   },
   "outputs": [
    {
     "data": {
      "application/javascript": [
       "\n",
       "    async function download(id, filename, size) {\n",
       "      if (!google.colab.kernel.accessAllowed) {\n",
       "        return;\n",
       "      }\n",
       "      const div = document.createElement('div');\n",
       "      const label = document.createElement('label');\n",
       "      label.textContent = `Downloading \"${filename}\": `;\n",
       "      div.appendChild(label);\n",
       "      const progress = document.createElement('progress');\n",
       "      progress.max = size;\n",
       "      div.appendChild(progress);\n",
       "      document.body.appendChild(div);\n",
       "\n",
       "      const buffers = [];\n",
       "      let downloaded = 0;\n",
       "\n",
       "      const channel = await google.colab.kernel.comms.open(id);\n",
       "      // Send a message to notify the kernel that we're ready.\n",
       "      channel.send({})\n",
       "\n",
       "      for await (const message of channel.messages) {\n",
       "        // Send a message to notify the kernel that we're ready.\n",
       "        channel.send({})\n",
       "        if (message.buffers) {\n",
       "          for (const buffer of message.buffers) {\n",
       "            buffers.push(buffer);\n",
       "            downloaded += buffer.byteLength;\n",
       "            progress.value = downloaded;\n",
       "          }\n",
       "        }\n",
       "      }\n",
       "      const blob = new Blob(buffers, {type: 'application/binary'});\n",
       "      const a = document.createElement('a');\n",
       "      a.href = window.URL.createObjectURL(blob);\n",
       "      a.download = filename;\n",
       "      div.appendChild(a);\n",
       "      a.click();\n",
       "      div.remove();\n",
       "    }\n",
       "  "
      ],
      "text/plain": [
       "<IPython.core.display.Javascript object>"
      ]
     },
     "metadata": {},
     "output_type": "display_data"
    },
    {
     "data": {
      "application/javascript": [
       "download(\"download_9b349e68-e2c4-420f-b5c0-69820c4ddd2f\", \"XRD_RIGAKU_extract.csv\", 35450)"
      ],
      "text/plain": [
       "<IPython.core.display.Javascript object>"
      ]
     },
     "metadata": {},
     "output_type": "display_data"
    }
   ],
   "source": [
    "from google.colab import files\n",
    "\n",
    "files.download(\"XRD_RIGAKU_extract.csv\")"
   ]
  },
  {
   "cell_type": "markdown",
   "id": "HIea_HsZVXwp",
   "metadata": {
    "id": "HIea_HsZVXwp"
   },
   "source": [
    "CSVファイルが無事にダウンロード出来ましたでしょうか. グラフの描かれた画像ファイルも同様にダウンロードできます."
   ]
  },
  {
   "cell_type": "code",
   "execution_count": 18,
   "id": "iNmg5hNYVko5",
   "metadata": {
    "colab": {
     "base_uri": "https://localhost:8080/",
     "height": 17
    },
    "id": "iNmg5hNYVko5",
    "outputId": "83b0d144-4579-4deb-dabf-74fba209e14c"
   },
   "outputs": [
    {
     "data": {
      "application/javascript": [
       "\n",
       "    async function download(id, filename, size) {\n",
       "      if (!google.colab.kernel.accessAllowed) {\n",
       "        return;\n",
       "      }\n",
       "      const div = document.createElement('div');\n",
       "      const label = document.createElement('label');\n",
       "      label.textContent = `Downloading \"${filename}\": `;\n",
       "      div.appendChild(label);\n",
       "      const progress = document.createElement('progress');\n",
       "      progress.max = size;\n",
       "      div.appendChild(progress);\n",
       "      document.body.appendChild(div);\n",
       "\n",
       "      const buffers = [];\n",
       "      let downloaded = 0;\n",
       "\n",
       "      const channel = await google.colab.kernel.comms.open(id);\n",
       "      // Send a message to notify the kernel that we're ready.\n",
       "      channel.send({})\n",
       "\n",
       "      for await (const message of channel.messages) {\n",
       "        // Send a message to notify the kernel that we're ready.\n",
       "        channel.send({})\n",
       "        if (message.buffers) {\n",
       "          for (const buffer of message.buffers) {\n",
       "            buffers.push(buffer);\n",
       "            downloaded += buffer.byteLength;\n",
       "            progress.value = downloaded;\n",
       "          }\n",
       "        }\n",
       "      }\n",
       "      const blob = new Blob(buffers, {type: 'application/binary'});\n",
       "      const a = document.createElement('a');\n",
       "      a.href = window.URL.createObjectURL(blob);\n",
       "      a.download = filename;\n",
       "      div.appendChild(a);\n",
       "      a.click();\n",
       "      div.remove();\n",
       "    }\n",
       "  "
      ],
      "text/plain": [
       "<IPython.core.display.Javascript object>"
      ]
     },
     "metadata": {},
     "output_type": "display_data"
    },
    {
     "data": {
      "application/javascript": [
       "download(\"download_19d653d0-c41a-43cc-8d9f-7d1fb2c02dcf\", \"XRD_RIGAKU.png\", 212322)"
      ],
      "text/plain": [
       "<IPython.core.display.Javascript object>"
      ]
     },
     "metadata": {},
     "output_type": "display_data"
    }
   ],
   "source": [
    "files.download(\"XRD_RIGAKU.png\")"
   ]
  },
  {
   "cell_type": "markdown",
   "id": "737751e4",
   "metadata": {
    "id": "737751e4"
   },
   "source": [
    "## おわりに\n",
    "上記はNMRの一次元スペクトルの最も基本形のシンプルなタイプのデータ構造化の事例となります．\n",
    "\n",
    "* JCAMP-DX型（テキスト）を読み込む\n",
    "* FIDかFFTかによって横軸のスケールを変換する\n",
    "* 数値部から可視化図を作成して保存する\n",
    "\n",
    "あとは，お好みに応じて``make_figure``関数の設定を触りながらオリジナルのデザインを進めてゆくことで調整します．"
   ]
  },
  {
   "cell_type": "code",
   "execution_count": null,
   "id": "26d73a4f",
   "metadata": {},
   "outputs": [],
   "source": []
  }
 ],
 "metadata": {
  "colab": {
   "name": "Training_1.ipynb",
   "provenance": []
  },
  "kernelspec": {
   "display_name": "Python 3 (ipykernel)",
   "language": "python",
   "name": "python3"
  },
  "language_info": {
   "codemirror_mode": {
    "name": "ipython",
    "version": 3
   },
   "file_extension": ".py",
   "mimetype": "text/x-python",
   "name": "python",
   "nbconvert_exporter": "python",
   "pygments_lexer": "ipython3",
   "version": "3.9.7"
  }
 },
 "nbformat": 4,
 "nbformat_minor": 5
}
