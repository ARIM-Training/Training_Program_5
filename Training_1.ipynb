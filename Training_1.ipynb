{
  "nbformat": 4,
  "nbformat_minor": 5,
  "metadata": {
    "kernelspec": {
      "display_name": "Python 3",
      "language": "python",
      "name": "python3"
    },
    "language_info": {
      "codemirror_mode": {
        "name": "ipython",
        "version": 3
      },
      "file_extension": ".py",
      "mimetype": "text/x-python",
      "name": "python",
      "nbconvert_exporter": "python",
      "pygments_lexer": "ipython3",
      "version": "3.8.10"
    },
    "colab": {
      "name": "Training_1.ipynb",
      "provenance": []
    }
  },
  "cells": [
    {
      "cell_type": "markdown",
      "metadata": {
        "id": "be7b3d7b"
      },
      "source": [
        "# # データ構造化ハンズオン演習　1\n",
        "## 数値化・可視化編 \n",
        "\n",
        "\n",
        "\n",
        "**対応機種** ：　 リガク　SmartLab  \n",
        "**rawデータ**：　ras (テキスト形式)  \n",
        "**スクリプトの内容**：  \n",
        "主に粉体・薄膜用のXRD測定に用いられるリガク（SmartLab）のデータについて，データ構造化（数値csvファイル化）ならびに回折図を出力します．\n",
        "\n",
        "![image](https://user-images.githubusercontent.com/38028745/138789951-01ea1497-be71-437d-bf6e-33c96a9aa8c2.png)\n"
      ],
      "id": "be7b3d7b"
    },
    {
      "cell_type": "markdown",
      "metadata": {
        "id": "4b4600b6"
      },
      "source": [
        "<hr>"
      ],
      "id": "4b4600b6"
    },
    {
      "cell_type": "markdown",
      "metadata": {
        "id": "3e8c4ae6"
      },
      "source": [
        "## サンプルデータを読み込みましょう"
      ],
      "id": "3e8c4ae6"
    },
    {
      "cell_type": "code",
      "metadata": {
        "colab": {
          "base_uri": "https://localhost:8080/"
        },
        "id": "44c87c06",
        "outputId": "e8cf0d69-acc1-43d0-945d-59512f3cd148"
      },
      "source": [
        "!git clone https://github.com/ARIM-Japan/Training_Program_1.git\n",
        "%cd Training_Program_1"
      ],
      "id": "44c87c06",
      "execution_count": 1,
      "outputs": [
        {
          "output_type": "stream",
          "name": "stdout",
          "text": [
            "Cloning into 'Training_Program_1'...\n",
            "remote: Enumerating objects: 248, done.\u001b[K\n",
            "remote: Counting objects: 100% (248/248), done.\u001b[K\n",
            "remote: Compressing objects: 100% (205/205), done.\u001b[K\n",
            "remote: Total 248 (delta 132), reused 97 (delta 35), pack-reused 0\u001b[K\n",
            "Receiving objects: 100% (248/248), 409.89 KiB | 9.76 MiB/s, done.\n",
            "Resolving deltas: 100% (132/132), done.\n",
            "/content/Training_Program_1\n"
          ]
        }
      ]
    },
    {
      "cell_type": "markdown",
      "metadata": {
        "id": "5651aed7"
      },
      "source": [
        "これで準備が整いました．"
      ],
      "id": "5651aed7"
    },
    {
      "cell_type": "markdown",
      "metadata": {
        "id": "790a0f55"
      },
      "source": [
        "<hr>"
      ],
      "id": "790a0f55"
    },
    {
      "cell_type": "markdown",
      "metadata": {
        "id": "54c4945a"
      },
      "source": [
        "## 1. ライブラリーを読み込みましょう\n",
        "最初にコードを走らせるのに必要なライブラリーを読み込みます．ライブラリとしては以下を使っていますが，標準的なライブラリーでありますので解説はいたしません．\n",
        "\n",
        " * 標準ライブラリー: ``glob``, ``os``, ``csv``\n",
        " * 数値処理用: ``pandas``\n",
        " * 可視化用: ``matplotlib``  "
      ],
      "id": "54c4945a"
    },
    {
      "cell_type": "code",
      "metadata": {
        "id": "305a0929"
      },
      "source": [
        "# ファイル操作用\n",
        "import glob\n",
        "import os\n",
        "import csv\n",
        "\n",
        "# 数値処理用\n",
        "import pandas as pd\n",
        "\n",
        "# 可視化用\n",
        "from matplotlib import pyplot as plt\n",
        "from matplotlib.ticker import ScalarFormatter"
      ],
      "id": "305a0929",
      "execution_count": 2,
      "outputs": []
    },
    {
      "cell_type": "markdown",
      "metadata": {
        "id": "2e5ccc64"
      },
      "source": [
        "また，出力結果を「output」フォルダーに保存するため，そのフォルダーの作成をします．"
      ],
      "id": "2e5ccc64"
    },
    {
      "cell_type": "code",
      "metadata": {
        "id": "be11d240"
      },
      "source": [
        "output_folder = 'output'\n",
        "os.makedirs(output_folder,exist_ok = True)"
      ],
      "id": "be11d240",
      "execution_count": 3,
      "outputs": []
    },
    {
      "cell_type": "markdown",
      "metadata": {
        "id": "74d23d8c"
      },
      "source": [
        "## 2. ファイルの拡張子を調べます\n",
        "データ構造化の最初のステップとして，データ構造化するファイルを特定する必要があります．その特定は**拡張子**で判定します．  \n",
        "下記の``read_files``関数は入力ファイルが置いてある「data」フォルダーにある特定の拡張子のファイルをすべてリスト化します．ここでは単一のファイルではなく複数のファイルが扱えることを想定しています．\n",
        "\n",
        "もしエラーがでたら「data」フォルダーを作成し，その中に.rasファイルを配置してみてください．"
      ],
      "id": "74d23d8c"
    },
    {
      "cell_type": "code",
      "metadata": {
        "id": "b6fcb51b"
      },
      "source": [
        "def read_files(extension):\n",
        "    \"\"\"\n",
        "    概要: 特定の拡張子のついたファイルをすべて読み込む\n",
        "    @param extension: 読み込む拡張子\n",
        "    @return 拡張子をぬいたファイル名，　ファイル数，　出力で使うファイル名\n",
        "    \"\"\"\n",
        "\n",
        "    #入力データのフォルダーを\"data\"とする\n",
        "    path = 'data/*' + extension\n",
        "    input_files = glob.glob(path)\n",
        "\n",
        "    # 読み込みファイル数の取得\n",
        "    number_of_files = len(input_files)\n",
        "\n",
        "    # 拡張子を抜いたファイル名（出力用）\n",
        "    output_name = [os.path.splitext(os.path.basename(p))[0] for p in input_files]\n",
        "\n",
        "    return input_files, number_of_files, output_name"
      ],
      "id": "b6fcb51b",
      "execution_count": 4,
      "outputs": []
    },
    {
      "cell_type": "markdown",
      "metadata": {
        "id": "2c54783a"
      },
      "source": [
        "\n",
        "リガクのXRDの生ファイルである``.ras``を含むファイルを指定してみましょう．"
      ],
      "id": "2c54783a"
    },
    {
      "cell_type": "code",
      "metadata": {
        "colab": {
          "base_uri": "https://localhost:8080/"
        },
        "id": "fa50e462",
        "outputId": "5a615fe9-4164-4046-9a80-0c1663f29278"
      },
      "source": [
        "default_extension = 'ras'\n",
        "read_files(default_extension)"
      ],
      "id": "fa50e462",
      "execution_count": 5,
      "outputs": [
        {
          "output_type": "execute_result",
          "data": {
            "text/plain": [
              "(['data/XRD_RIGAKU.ras'], 1, ['XRD_RIGAKU'])"
            ]
          },
          "metadata": {},
          "execution_count": 5
        }
      ]
    },
    {
      "cell_type": "markdown",
      "metadata": {
        "id": "b60ebcbd"
      },
      "source": [
        "上記のようにリスト配列の結果が戻ります．  \n",
        "１つ目は「data」フォルダーにある.rasのファイル名（相対パス形式），２つ目はファイル数，３つ目は拡張子（.ras）を省いたファイル名です．  \n",
        "３番目はグラフのタイトルや出力ファイル名で使うために準備します．"
      ],
      "id": "b60ebcbd"
    },
    {
      "cell_type": "markdown",
      "metadata": {
        "id": "3b9f8120"
      },
      "source": [
        "# 3. 特定の文字（単語）が何行目に出現するか\n",
        "データ構造化では，ファイルに含まれいているヘッダー部と数値部を切り離す処理をします．その切り離す場所を判定するために特定の文字（単語）を指定する方法をとります．そのようなときに**特定の単語が現れる「行数」を判定**する関数です．\n",
        "\n",
        "行判定は，次のような流れです．\n",
        "1. ``open``関数で読みだしたファイルをtextに格納．\n",
        "1. forループで一行づつtextを読み出しながら指定した文字（**word**）が含まれているかを``inキーワード``で判定\n",
        "1. 一致した行をmatch_lineに格納\n",
        "1. match_lineを戻し値としてreturnする"
      ],
      "id": "3b9f8120"
    },
    {
      "cell_type": "code",
      "metadata": {
        "id": "ec0049ef"
      },
      "source": [
        "def get_line_number(filename,word):\n",
        "    \"\"\"\n",
        "    概要: 特定の文字（単語）が何行目に出現するか\n",
        "    @param filename: ファイル名\n",
        "    @param wotd: 検索したい単語\n",
        "    @return 行番号\n",
        "    \"\"\"\n",
        "    with open(filename,  newline='') as f:\n",
        "        reader = csv.reader(f)\n",
        "        text = [row for row in reader]\n",
        "     \n",
        "    for i in range(len(text)):\n",
        "        if word in text[i]:\n",
        "            match_line = i\n",
        "    \n",
        "    return match_line"
      ],
      "id": "ec0049ef",
      "execution_count": 6,
      "outputs": []
    },
    {
      "cell_type": "markdown",
      "metadata": {
        "id": "3fcd3f0c"
      },
      "source": [
        "ここでは「2. ファイルの拡張子を調べます」で出力したdataフォルタにある「XRD_RIGAKU.ras」について”＊RAS_INT_START”という文字（列）が含まれる行数を調べてみることにしましょう．  \n",
        "\n",
        "単語判定ではword = '＊RAS_INT_START'として変数としておくと，関数には読み込みやすくなります．"
      ],
      "id": "3fcd3f0c"
    },
    {
      "cell_type": "code",
      "metadata": {
        "colab": {
          "base_uri": "https://localhost:8080/"
        },
        "id": "8790c127",
        "outputId": "88e51d16-c141-4819-f188-43aa205b7454"
      },
      "source": [
        "filename = \"data/XRD_RIGAKU.ras\"\n",
        "word = '*RAS_INT_START'\n",
        "get_line_number(filename,word)"
      ],
      "id": "8790c127",
      "execution_count": 7,
      "outputs": [
        {
          "output_type": "execute_result",
          "data": {
            "text/plain": [
              "469"
            ]
          },
          "metadata": {},
          "execution_count": 7
        }
      ]
    },
    {
      "cell_type": "markdown",
      "metadata": {
        "id": "7d9e0e69"
      },
      "source": [
        "上記のように”469”という数字が現れました．これは'RAS_INT_START'という文字列（単語）が469行目にあることを示しています．（注意：pythonは0行からカウントが始まるため，1行目カウントであれば470行目となります）  \n",
        "\n",
        "実は，この”RAS_INT_START”はリガクの.rasファイルをみると，数値部が始まる直前の単語であることがわかります．そうです．470行目からの数値部が回折角に対する強度データとなりますので，そのための判定に使っています．"
      ],
      "id": "7d9e0e69"
    },
    {
      "cell_type": "markdown",
      "metadata": {
        "id": "be79a488"
      },
      "source": [
        "## 4. 数値化ファイル作成のための前処理\n",
        "470個のヘッダーがあると，Excelでも読み込むにも使いにくい形態です．測定の設定が記録されていることでは親切ではあっても，データ処理にとっては必ずしも親切とはいえません．ヘッダーを削除した数値データのみのcsvファイルを作成しておくと使いやすくなります．  \n",
        "\n",
        "そのための前処理として，ヘッダー部と数値部とを切り離し，数値部のみを取り出す処理を``pandas``の``read_csv``関数で行います．  \n",
        "\n",
        "``read_csv``関数で特定の行から読み込むオプションは``header``を使います．ここでは``heaedr``は``get_line_number``関数で取得した数字を入れます．\n",
        "\n",
        ".rasファイルの数値列は3列からなりなっていますが，3列目は不要です．ここではダミー列名として”para”としておき，それを続く``dropメソッド``を使って削除するようにしています．"
      ],
      "id": "be79a488"
    },
    {
      "cell_type": "code",
      "metadata": {
        "id": "91ca2376"
      },
      "source": [
        "def data_extract(file):\n",
        "    \"\"\"\n",
        "    概要: 数値部の抽出\n",
        "    @param file: npdファイル\n",
        "    @return dataframe（ch,回折角，強度）\n",
        "    \"\"\"\n",
        "\n",
        "    index_word = '*RAS_INT_START'\n",
        "    \n",
        "    start_line = get_line_number(file,index_word)\n",
        "\n",
        "    df = pd.read_csv(file,\n",
        "                 sep=' ',\n",
        "                 header = start_line,\n",
        "                 skip_blank_lines= False,\n",
        "                 names=('2theta', 'intensity','para'))\n",
        "    \n",
        "    df = df.drop(['para'], axis = 1)\n",
        "    df = df.dropna().astype('float')\n",
        "\n",
        "    return df"
      ],
      "id": "91ca2376",
      "execution_count": 8,
      "outputs": []
    },
    {
      "cell_type": "markdown",
      "metadata": {
        "id": "81c3be93"
      },
      "source": [
        "では，XRD_RIGAKU.rasを直接指定してみましょう．dataframe形式で数値部が表示されます．"
      ],
      "id": "81c3be93"
    },
    {
      "cell_type": "code",
      "metadata": {
        "colab": {
          "base_uri": "https://localhost:8080/",
          "height": 419
        },
        "id": "e73274ef",
        "outputId": "09a8e727-6e79-435a-cb09-a6d35b1e9d20"
      },
      "source": [
        "data = data_extract(\"data/XRD_RIGAKU.ras\")\n",
        "data"
      ],
      "id": "e73274ef",
      "execution_count": 9,
      "outputs": [
        {
          "output_type": "execute_result",
          "data": {
            "text/html": [
              "<div>\n",
              "<style scoped>\n",
              "    .dataframe tbody tr th:only-of-type {\n",
              "        vertical-align: middle;\n",
              "    }\n",
              "\n",
              "    .dataframe tbody tr th {\n",
              "        vertical-align: top;\n",
              "    }\n",
              "\n",
              "    .dataframe thead th {\n",
              "        text-align: right;\n",
              "    }\n",
              "</style>\n",
              "<table border=\"1\" class=\"dataframe\">\n",
              "  <thead>\n",
              "    <tr style=\"text-align: right;\">\n",
              "      <th></th>\n",
              "      <th>2theta</th>\n",
              "      <th>intensity</th>\n",
              "    </tr>\n",
              "  </thead>\n",
              "  <tbody>\n",
              "    <tr>\n",
              "      <th>0</th>\n",
              "      <td>25.00</td>\n",
              "      <td>13.0</td>\n",
              "    </tr>\n",
              "    <tr>\n",
              "      <th>1</th>\n",
              "      <td>25.01</td>\n",
              "      <td>7.0</td>\n",
              "    </tr>\n",
              "    <tr>\n",
              "      <th>2</th>\n",
              "      <td>25.02</td>\n",
              "      <td>12.0</td>\n",
              "    </tr>\n",
              "    <tr>\n",
              "      <th>3</th>\n",
              "      <td>25.03</td>\n",
              "      <td>6.0</td>\n",
              "    </tr>\n",
              "    <tr>\n",
              "      <th>4</th>\n",
              "      <td>25.04</td>\n",
              "      <td>3.0</td>\n",
              "    </tr>\n",
              "    <tr>\n",
              "      <th>...</th>\n",
              "      <td>...</td>\n",
              "      <td>...</td>\n",
              "    </tr>\n",
              "    <tr>\n",
              "      <th>3496</th>\n",
              "      <td>59.96</td>\n",
              "      <td>4.0</td>\n",
              "    </tr>\n",
              "    <tr>\n",
              "      <th>3497</th>\n",
              "      <td>59.97</td>\n",
              "      <td>2.0</td>\n",
              "    </tr>\n",
              "    <tr>\n",
              "      <th>3498</th>\n",
              "      <td>59.98</td>\n",
              "      <td>1.0</td>\n",
              "    </tr>\n",
              "    <tr>\n",
              "      <th>3499</th>\n",
              "      <td>59.99</td>\n",
              "      <td>3.0</td>\n",
              "    </tr>\n",
              "    <tr>\n",
              "      <th>3500</th>\n",
              "      <td>60.00</td>\n",
              "      <td>2.0</td>\n",
              "    </tr>\n",
              "  </tbody>\n",
              "</table>\n",
              "<p>3501 rows × 2 columns</p>\n",
              "</div>"
            ],
            "text/plain": [
              "      2theta  intensity\n",
              "0      25.00       13.0\n",
              "1      25.01        7.0\n",
              "2      25.02       12.0\n",
              "3      25.03        6.0\n",
              "4      25.04        3.0\n",
              "...      ...        ...\n",
              "3496   59.96        4.0\n",
              "3497   59.97        2.0\n",
              "3498   59.98        1.0\n",
              "3499   59.99        3.0\n",
              "3500   60.00        2.0\n",
              "\n",
              "[3501 rows x 2 columns]"
            ]
          },
          "metadata": {},
          "execution_count": 9
        }
      ]
    },
    {
      "cell_type": "markdown",
      "metadata": {
        "id": "98e45fd8"
      },
      "source": [
        "## 5. 数値化csvファイルの保存\n",
        "上記のdataとして出力したdataframeをcsv化します．ファイルの保存は``pandas``の``to_csv``関数を使います．ここでは，\"output\"というフォルダに\"test_extract.csv\"というファイル名で保存します．\n",
        "\n",
        "その時，``index =false``とすることで行番号（インデックス番号）の出力を不要としています．"
      ],
      "id": "98e45fd8"
    },
    {
      "cell_type": "code",
      "metadata": {
        "id": "1fe85a5b"
      },
      "source": [
        "data.to_csv('output' + '/' + 'XRD_RIGAKU_extract.csv',index = False)"
      ],
      "id": "1fe85a5b",
      "execution_count": 10,
      "outputs": []
    },
    {
      "cell_type": "markdown",
      "metadata": {
        "id": "88f36e5f"
      },
      "source": [
        "## 6. 可視化図の作成と保存\n",
        "XRDの回折図のような規定パターンのグラフはユーザー関数化しておくと便利です．ここでは``make_figure``関数として作ります．第一引数にはdataframeの数値データ，第二引数は図の中で表示するタイトル名や出力ファイル名を\"file\"として指定します．\n",
        "\n",
        "グラフのレイアウトの指定方法は``matplotlib``によるものです．"
      ],
      "id": "88f36e5f"
    },
    {
      "cell_type": "code",
      "metadata": {
        "id": "53678477"
      },
      "source": [
        "# XRDの作図\n",
        "def make_figure(df, file):\n",
        "    \n",
        "    print ('Making plot in progress')\n",
        "\n",
        "    # 図の設定    \n",
        "    hfont = {'fontname': 'Arial'}\n",
        "    fig, ax = plt.subplots(1,1, figsize=(16,9))\n",
        "    \n",
        "    # 可視化パラメータ\n",
        "    X = df['2theta']\n",
        "    Y = df['intensity']   \n",
        "                \n",
        "    # 可視化図\n",
        "    ax.plot(X, Y,\n",
        "            linewidth = 1.0, \n",
        "            color ='black')\n",
        " \n",
        "    # 軸ラベル設定\n",
        "    ax.set_xlabel(\"2theta [deg]\",\n",
        "                  **hfont, \n",
        "                  fontsize = 20, \n",
        "                  labelpad= 10,\n",
        "                  fontweight='bold')\n",
        "    \n",
        "    ax.set_ylabel(\"Intensity [counts]\",\n",
        "                  **hfont, \n",
        "                  fontsize = 20, \n",
        "                  labelpad= 10,\n",
        "                  fontweight='bold')\n",
        "\n",
        "    #　軸の設定\n",
        "    ax.minorticks_on()\n",
        "    ax.tick_params(direction = \"in\", \n",
        "                   which = \"both\", \n",
        "                   length = 5, \n",
        "                   labelsize=16)\n",
        "    \n",
        "    ax.xaxis.set_major_formatter(ScalarFormatter(useMathText=True))    \n",
        "    ax.yaxis.set_major_formatter(ScalarFormatter(useMathText=True))\n",
        "    \n",
        "    # 縦軸の指数関数型表示\n",
        "    ax.ticklabel_format(style=\"sci\",  axis=\"y\",scilimits=(0,0))\n",
        "        \n",
        "    #ax.xaxis.offsetText.set_fontsize(16)\n",
        "    ax.yaxis.offsetText.set_fontsize(16)\n",
        "    \n",
        "    # グリッドラインの表示\n",
        "    ax.grid(which = \"major\", \n",
        "            axis = \"both\", \n",
        "            color = \"gray\", \n",
        "            linestyle = \"--\", \n",
        "            linewidth = 0.6) \n",
        "    \n",
        "    # グラフタイトルの設定\n",
        "    ax.set_title(file, **hfont, fontsize = 16)\n",
        "    \n",
        "    # 出力\n",
        "    plt.savefig('output' + '/' + file + '.png', dpi=300)\n",
        "    plt.show()"
      ],
      "id": "53678477",
      "execution_count": 11,
      "outputs": []
    },
    {
      "cell_type": "markdown",
      "metadata": {
        "id": "5d18d09b"
      },
      "source": [
        "ここでは，第一引数として\"data\"とし，第二引数を＝”XRD_RIGAKU”として走らせることにしましょう．\n",
        "なお，上記の最終行に``savefig``が見て取れるかと思います．ここで.pngの可視図を”output”フォルダーに保存していますのであわせて確認してみてください．"
      ],
      "id": "5d18d09b"
    },
    {
      "cell_type": "code",
      "metadata": {
        "colab": {
          "base_uri": "https://localhost:8080/",
          "height": 638
        },
        "id": "e8cb4b77",
        "outputId": "5a97a438-e72b-4255-bf59-d127002d34d5"
      },
      "source": [
        "make_figure(data, 'XRD_RIGAKU')"
      ],
      "id": "e8cb4b77",
      "execution_count": 12,
      "outputs": [
        {
          "output_type": "stream",
          "name": "stderr",
          "text": [
            "findfont: Font family ['Arial'] not found. Falling back to DejaVu Sans.\n"
          ]
        },
        {
          "output_type": "stream",
          "name": "stdout",
          "text": [
            "Making plot in progress\n"
          ]
        },
        {
          "output_type": "stream",
          "name": "stderr",
          "text": [
            "findfont: Font family ['Arial'] not found. Falling back to DejaVu Sans.\n"
          ]
        },
        {
          "output_type": "display_data",
          "data": {
            "image/png": "[encoded data removed]",
            "text/plain": [
              "<Figure size 1152x648 with 1 Axes>"
            ]
          },
          "metadata": {
            "needs_background": "light"
          }
        }
      ]
    },
    {
      "cell_type": "markdown",
      "metadata": {
        "id": "658a743a"
      },
      "source": [
        "## 7. 一本化する\n",
        "上記の一連の処理を一本化することをします．下記のように一本化したコードを``main``関数として定義しておきます．処理の順番を並べるだけです．\n",
        "また，上記ではファイルが一つだけを想定していました．下記の``main``では複数の.rasファイルがある場合にでも実行できるよう``for``ループにしています．\n",
        "\n",
        "計測では複数ファイルを一括して処理する場合がほとんどですので，このような一連の処理は``for``ループ化しておくと作業効率化に効いてきます．"
      ],
      "id": "658a743a"
    },
    {
      "cell_type": "code",
      "metadata": {
        "id": "74427d3d"
      },
      "source": [
        " def main():\n",
        "    # 初期設定\n",
        "    default_extension = '.ras'\n",
        "    output_folder = 'output'\n",
        "    os.makedirs(output_folder,exist_ok = True)\n",
        "    \n",
        "    # ファイルの読み込み\n",
        "    [files, f_num, fname] = read_files(default_extension)\n",
        "    \n",
        "    # データ抽出（複数ファイルでも対応が可能）\n",
        "    for i in range(f_num):\n",
        "\n",
        "        # 数値データ部の抽出\n",
        "        data = data_extract(files[i])\n",
        "        \n",
        "        # 数値データのcsv出力および可視化図の出力\n",
        "        data.to_csv(output_folder + '/' + fname[i] + '_extract.csv',index = False)\n",
        "        \n",
        "        print (data)\n",
        "        make_figure(data, fname[i])  "
      ],
      "id": "74427d3d",
      "execution_count": 13,
      "outputs": []
    },
    {
      "cell_type": "markdown",
      "metadata": {
        "id": "ea1c4527"
      },
      "source": [
        "その``main``関数を下記のようにして走らせてみましょう．一連の処理が一貫で行われます．"
      ],
      "id": "ea1c4527"
    },
    {
      "cell_type": "code",
      "metadata": {
        "colab": {
          "base_uri": "https://localhost:8080/",
          "height": 842
        },
        "id": "5a2e159c",
        "outputId": "d8695a72-8e90-4c3d-c8c1-2bda6c6f4f3a"
      },
      "source": [
        "main()"
      ],
      "id": "5a2e159c",
      "execution_count": 14,
      "outputs": [
        {
          "output_type": "stream",
          "name": "stdout",
          "text": [
            "      2theta  intensity\n",
            "0      25.00       13.0\n",
            "1      25.01        7.0\n",
            "2      25.02       12.0\n",
            "3      25.03        6.0\n",
            "4      25.04        3.0\n",
            "...      ...        ...\n",
            "3496   59.96        4.0\n",
            "3497   59.97        2.0\n",
            "3498   59.98        1.0\n",
            "3499   59.99        3.0\n",
            "3500   60.00        2.0\n",
            "\n",
            "[3501 rows x 2 columns]\n",
            "Making plot in progress\n"
          ]
        },
        {
          "output_type": "display_data",
          "data": {
            "image/png": "[encoded data removed]",
            "text/plain": [
              "<Figure size 1152x648 with 1 Axes>"
            ]
          },
          "metadata": {
            "needs_background": "light"
          }
        }
      ]
    },
    {
      "cell_type": "markdown",
      "metadata": {
        "id": "gXAYJjMpTDBw"
      },
      "source": [
        "では出力されたグラフおよびCSVを取り出して見てみましょう. PCをお使いの方々はoutput_folderというフォルダーを見れば, グラフとCSVが出力されています.\n",
        "Google Colaboratoryをお使いの方々は, まず下のコマンドコードを実行してください."
      ],
      "id": "gXAYJjMpTDBw"
    },
    {
      "cell_type": "code",
      "metadata": {
        "colab": {
          "base_uri": "https://localhost:8080/"
        },
        "id": "HepJskiRS_6w",
        "outputId": "5ec25ef1-df61-4499-9655-8df92994af3f"
      },
      "source": [
        "!pwd\n",
        "!ls"
      ],
      "id": "HepJskiRS_6w",
      "execution_count": 15,
      "outputs": [
        {
          "output_type": "stream",
          "name": "stdout",
          "text": [
            "/content/Training_Program_1\n",
            "data  output  README.md  Training_1.ipynb\n"
          ]
        }
      ]
    },
    {
      "cell_type": "markdown",
      "metadata": {
        "id": "UScAR9z2UE8P"
      },
      "source": [
        "現在プログラムを実行しているフォルダーがTraining_Program_1というところで, そこにdataフォルダーやoutputフォルダー, READMEやこのプログラムの書かれたノートブックのファイルであるTraining_1.ipynbもあります. では、次のコマンドコードでoutputフォルダーに移動してみましょう."
      ],
      "id": "UScAR9z2UE8P"
    },
    {
      "cell_type": "code",
      "metadata": {
        "colab": {
          "base_uri": "https://localhost:8080/"
        },
        "id": "79EbytAtUEHZ",
        "outputId": "5f5fb732-c9bd-41ff-e29e-d5683dc66a87"
      },
      "source": [
        "%cd output/\n",
        "!ls"
      ],
      "id": "79EbytAtUEHZ",
      "execution_count": 16,
      "outputs": [
        {
          "output_type": "stream",
          "name": "stdout",
          "text": [
            "/content/Training_Program_1/output\n",
            "XRD_RIGAKU_extract.csv\tXRD_RIGAKU.png\n"
          ]
        }
      ]
    },
    {
      "cell_type": "markdown",
      "metadata": {
        "id": "5b1VB8fRUrqZ"
      },
      "source": [
        "XRD_RIGAKU_extract.csvというCSVファイルと, XRD_RIGAKU.pngという画像ファイルが出てきました. これを以下のプログラムコードを実行して取り出して見ましょう."
      ],
      "id": "5b1VB8fRUrqZ"
    },
    {
      "cell_type": "code",
      "metadata": {
        "colab": {
          "base_uri": "https://localhost:8080/",
          "height": 17
        },
        "id": "O94TgCOUVLPi",
        "outputId": "466b2e6e-a3ac-45c1-a412-9945a8eca279"
      },
      "source": [
        "from google.colab import files\n",
        "\n",
        "files.download(\"XRD_RIGAKU_extract.csv\")"
      ],
      "id": "O94TgCOUVLPi",
      "execution_count": 17,
      "outputs": [
        {
          "output_type": "display_data",
          "data": {
            "application/javascript": [
              "\n",
              "    async function download(id, filename, size) {\n",
              "      if (!google.colab.kernel.accessAllowed) {\n",
              "        return;\n",
              "      }\n",
              "      const div = document.createElement('div');\n",
              "      const label = document.createElement('label');\n",
              "      label.textContent = `Downloading \"${filename}\": `;\n",
              "      div.appendChild(label);\n",
              "      const progress = document.createElement('progress');\n",
              "      progress.max = size;\n",
              "      div.appendChild(progress);\n",
              "      document.body.appendChild(div);\n",
              "\n",
              "      const buffers = [];\n",
              "      let downloaded = 0;\n",
              "\n",
              "      const channel = await google.colab.kernel.comms.open(id);\n",
              "      // Send a message to notify the kernel that we're ready.\n",
              "      channel.send({})\n",
              "\n",
              "      for await (const message of channel.messages) {\n",
              "        // Send a message to notify the kernel that we're ready.\n",
              "        channel.send({})\n",
              "        if (message.buffers) {\n",
              "          for (const buffer of message.buffers) {\n",
              "            buffers.push(buffer);\n",
              "            downloaded += buffer.byteLength;\n",
              "            progress.value = downloaded;\n",
              "          }\n",
              "        }\n",
              "      }\n",
              "      const blob = new Blob(buffers, {type: 'application/binary'});\n",
              "      const a = document.createElement('a');\n",
              "      a.href = window.URL.createObjectURL(blob);\n",
              "      a.download = filename;\n",
              "      div.appendChild(a);\n",
              "      a.click();\n",
              "      div.remove();\n",
              "    }\n",
              "  "
            ],
            "text/plain": [
              "<IPython.core.display.Javascript object>"
            ]
          },
          "metadata": {}
        },
        {
          "output_type": "display_data",
          "data": {
            "application/javascript": [
              "download(\"download_9b349e68-e2c4-420f-b5c0-69820c4ddd2f\", \"XRD_RIGAKU_extract.csv\", 35450)"
            ],
            "text/plain": [
              "<IPython.core.display.Javascript object>"
            ]
          },
          "metadata": {}
        }
      ]
    },
    {
      "cell_type": "markdown",
      "metadata": {
        "id": "HIea_HsZVXwp"
      },
      "source": [
        "CSVファイルが無事にダウンロード出来ましたでしょうか. グラフの描かれた画像ファイルも同様にダウンロードできます."
      ],
      "id": "HIea_HsZVXwp"
    },
    {
      "cell_type": "code",
      "metadata": {
        "colab": {
          "base_uri": "https://localhost:8080/",
          "height": 17
        },
        "id": "iNmg5hNYVko5",
        "outputId": "83b0d144-4579-4deb-dabf-74fba209e14c"
      },
      "source": [
        "files.download(\"XRD_RIGAKU.png\")"
      ],
      "id": "iNmg5hNYVko5",
      "execution_count": 18,
      "outputs": [
        {
          "output_type": "display_data",
          "data": {
            "application/javascript": [
              "\n",
              "    async function download(id, filename, size) {\n",
              "      if (!google.colab.kernel.accessAllowed) {\n",
              "        return;\n",
              "      }\n",
              "      const div = document.createElement('div');\n",
              "      const label = document.createElement('label');\n",
              "      label.textContent = `Downloading \"${filename}\": `;\n",
              "      div.appendChild(label);\n",
              "      const progress = document.createElement('progress');\n",
              "      progress.max = size;\n",
              "      div.appendChild(progress);\n",
              "      document.body.appendChild(div);\n",
              "\n",
              "      const buffers = [];\n",
              "      let downloaded = 0;\n",
              "\n",
              "      const channel = await google.colab.kernel.comms.open(id);\n",
              "      // Send a message to notify the kernel that we're ready.\n",
              "      channel.send({})\n",
              "\n",
              "      for await (const message of channel.messages) {\n",
              "        // Send a message to notify the kernel that we're ready.\n",
              "        channel.send({})\n",
              "        if (message.buffers) {\n",
              "          for (const buffer of message.buffers) {\n",
              "            buffers.push(buffer);\n",
              "            downloaded += buffer.byteLength;\n",
              "            progress.value = downloaded;\n",
              "          }\n",
              "        }\n",
              "      }\n",
              "      const blob = new Blob(buffers, {type: 'application/binary'});\n",
              "      const a = document.createElement('a');\n",
              "      a.href = window.URL.createObjectURL(blob);\n",
              "      a.download = filename;\n",
              "      div.appendChild(a);\n",
              "      a.click();\n",
              "      div.remove();\n",
              "    }\n",
              "  "
            ],
            "text/plain": [
              "<IPython.core.display.Javascript object>"
            ]
          },
          "metadata": {}
        },
        {
          "output_type": "display_data",
          "data": {
            "application/javascript": [
              "download(\"download_19d653d0-c41a-43cc-8d9f-7d1fb2c02dcf\", \"XRD_RIGAKU.png\", 212322)"
            ],
            "text/plain": [
              "<IPython.core.display.Javascript object>"
            ]
          },
          "metadata": {}
        }
      ]
    },
    {
      "cell_type": "markdown",
      "metadata": {
        "id": "737751e4"
      },
      "source": [
        "## おわりに\n",
        "このXRDは最も基本形のシンプルなタイプのデータ構造化の事例となります．基本的なポイントとなるのは次の処理項目です．\n",
        "\n",
        "* データ構造化したいファイルを指定して読み込む\n",
        "* 必要な数値部を抽出し保存する\n",
        "* 数値部から可視化図を作成して保存する\n",
        "\n",
        "あとは，お好みに応じて``make_figure``関数の設定を触りながらオリジナルのデザインを進めてゆくことで調整します．ここは``matplotlib``の勉強のたたき台にもなるかと思います．"
      ],
      "id": "737751e4"
    }
  ]
}